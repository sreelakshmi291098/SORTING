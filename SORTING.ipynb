{
  "nbformat": 4,
  "nbformat_minor": 0,
  "metadata": {
    "colab": {
      "name": "SORTING.ipynb",
      "provenance": [],
      "collapsed_sections": []
    },
    "kernelspec": {
      "name": "python3",
      "display_name": "Python 3"
    },
    "language_info": {
      "name": "python"
    }
  },
  "cells": [
    {
      "cell_type": "code",
      "execution_count": null,
      "metadata": {
        "colab": {
          "base_uri": "https://localhost:8080/"
        },
        "id": "WuMm3I-u3l5y",
        "outputId": "a1925320-8f3e-43ee-c419-aa9fabe4e741"
      },
      "outputs": [
        {
          "output_type": "stream",
          "name": "stdout",
          "text": [
            "The unsorted list is:  [5, 3, 8, 6, 7, 2]\n",
            "The sorted list is:  [2, 3, 5, 6, 7, 8]\n"
          ]
        }
      ],
      "source": [
        "def bubble_sort(list1):  \n",
        "    for i in range(0,len(list1)-1):  \n",
        "        for j in range(len(list1)-1):  \n",
        "            if(list1[j]>list1[j+1]):  \n",
        "                temp = list1[j]  \n",
        "                list1[j] = list1[j+1]  \n",
        "                list1[j+1] = temp  \n",
        "    return list1  \n",
        "list1 = [5, 3, 8, 6, 7, 2]  \n",
        "print(\"The unsorted list is: \", list1)  \n",
        "print(\"The sorted list is: \", bubble_sort(list1))  "
      ]
    },
    {
      "cell_type": "code",
      "source": [
        "def insertion_sort(list1):  \n",
        "  for i in range(1, len(list1)):\n",
        "    value = list1[i]  \n",
        "    j = i - 1  \n",
        "  while j >= 0 and value < list1[j]:  \n",
        "    list1[j + 1] = list1[j]  \n",
        "    j -= 1  \n",
        "    list1[j + 1] = value  \n",
        "  return list1  \n",
        "list1 = [10, 5, 13, 8, 2]  \n",
        "print(\"The unsorted list is:\", list1)  \n",
        "  \n",
        "print(\"The sorted list1 is:\", insertion_sort(list1))  "
      ],
      "metadata": {
        "colab": {
          "base_uri": "https://localhost:8080/"
        },
        "id": "NY5h9AmX4buQ",
        "outputId": "cadb303c-c3fb-424c-8760-4e09cd244cac"
      },
      "execution_count": null,
      "outputs": [
        {
          "output_type": "stream",
          "name": "stdout",
          "text": [
            "The unsorted list is: [10, 5, 13, 8, 2]\n",
            "The sorted list1 is: [2, 10, 5, 13, 8]\n"
          ]
        }
      ]
    },
    {
      "cell_type": "code",
      "source": [
        "def mergeSort(nlist):\n",
        "    print(\"Splitting \",nlist)\n",
        "    if len(nlist)>1:\n",
        "        mid = len(nlist)//2\n",
        "        lefthalf = nlist[:mid]\n",
        "        righthalf = nlist[mid:]\n",
        "\n",
        "        mergeSort(lefthalf)\n",
        "        mergeSort(righthalf)\n",
        "        i=j=k=0       \n",
        "        while i < len(lefthalf) and j < len(righthalf):\n",
        "            if lefthalf[i] < righthalf[j]:\n",
        "                nlist[k]=lefthalf[i]\n",
        "                i=i+1\n",
        "            else:\n",
        "                nlist[k]=righthalf[j]\n",
        "                j=j+1\n",
        "            k=k+1\n",
        "\n",
        "        while i < len(lefthalf):\n",
        "            nlist[k]=lefthalf[i]\n",
        "            i=i+1\n",
        "            k=k+1\n",
        "        while j < len(righthalf):\n",
        "            nlist[k]=righthalf[j]\n",
        "            j=j+1\n",
        "            k=k+1\n",
        "    print(\"Merging \",nlist)\n",
        "\n",
        "nlist = [14,46,43,27,57,41,45,21,70]\n",
        "mergeSort(nlist)\n",
        "print(nlist)    "
      ],
      "metadata": {
        "colab": {
          "base_uri": "https://localhost:8080/"
        },
        "id": "kITkclnvbiYj",
        "outputId": "5c7eb286-21e5-4716-d19d-f42170f05f62"
      },
      "execution_count": 3,
      "outputs": [
        {
          "output_type": "stream",
          "name": "stdout",
          "text": [
            "Splitting  [14, 46, 43, 27, 57, 41, 45, 21, 70]\n",
            "Splitting  [14, 46, 43, 27]\n",
            "Splitting  [14, 46]\n",
            "Splitting  [14]\n",
            "Merging  [14]\n",
            "Splitting  [46]\n",
            "Merging  [46]\n",
            "Merging  [14, 46]\n",
            "Splitting  [43, 27]\n",
            "Splitting  [43]\n",
            "Merging  [43]\n",
            "Splitting  [27]\n",
            "Merging  [27]\n",
            "Merging  [27, 43]\n",
            "Merging  [14, 27, 43, 46]\n",
            "Splitting  [57, 41, 45, 21, 70]\n",
            "Splitting  [57, 41]\n",
            "Splitting  [57]\n",
            "Merging  [57]\n",
            "Splitting  [41]\n",
            "Merging  [41]\n",
            "Merging  [41, 57]\n",
            "Splitting  [45, 21, 70]\n",
            "Splitting  [45]\n",
            "Merging  [45]\n",
            "Splitting  [21, 70]\n",
            "Splitting  [21]\n",
            "Merging  [21]\n",
            "Splitting  [70]\n",
            "Merging  [70]\n",
            "Merging  [21, 70]\n",
            "Merging  [21, 45, 70]\n",
            "Merging  [21, 41, 45, 57, 70]\n",
            "Merging  [14, 21, 27, 41, 43, 45, 46, 57, 70]\n",
            "[14, 21, 27, 41, 43, 45, 46, 57, 70]\n"
          ]
        }
      ]
    }
  ]
}